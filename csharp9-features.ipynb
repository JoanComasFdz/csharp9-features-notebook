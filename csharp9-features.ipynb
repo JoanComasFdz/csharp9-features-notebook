{
 "cells": [
  {
   "cell_type": "markdown",
   "metadata": {
    "dotnet_interactive": {
     "language": "csharp"
    }
   },
   "source": [
    "# C# 9 Features Summary"
   ]
  },
  {
   "cell_type": "markdown",
   "metadata": {},
   "source": [
    "## Records\n",
    "They are the perfect way to separate between domain objects and logic handlers\n",
    "- A domain object may be a `User`, `Patient`, `Tree`, `Test`, `TestResult`, etc. because they represent the domain.\n",
    "- A logic handler may be a `UserRepository`, `TreeStarter`, `SomeEventSubscription`, `ConditionExplainer`, etc. because they are tools to execute certain functionality.\n",
    "\n",
    "By migrating all objects in our Domain and Database folders to records, we have an extra level of separation assured by the compiler itself.\n",
    "\n",
    "[Microsoft Docs](https://docs.microsoft.com/en-us/dotnet/csharp/whats-new/tutorials/records)"
   ]
  },
  {
   "cell_type": "code",
   "execution_count": null,
   "metadata": {
    "dotnet_interactive": {
     "language": "csharp"
    }
   },
   "outputs": [
    {
     "name": "stdout",
     "output_type": "stream",
     "text": [
      "How to instantiate records\r\n",
      "Patient1 { Id = c4a2f3aa-7fd7-4f45-bf49-eb99cc50d088, Name = Severin }\r\n",
      "Patient2 { Id = e9246ad3-bea0-481f-97e0-c3c09c4e7991, Name = Thomas }\r\n",
      "\r\n",
      "How to use with operator\r\n",
      "Patient1 { Id = 59f8639d-d801-408b-9774-7eb916c4d694, Name = Severin }\r\n",
      "\r\n",
      "How to use deconstructor\r\n",
      "id: 59f8639d-d801-408b-9774-7eb916c4d694\r\n",
      "name: Severin\r\n",
      "\r\n"
     ]
    }
   ],
   "source": [
    "public record Patient1(Guid Id, string Name); // Shortes way to write an inmutable record.\n",
    "\n",
    "public record Patient2\n",
    "{\n",
    "    public Guid Id {get; init;} // Once the value is set it cannot be changed.\n",
    "    public string Name {get; set;}\n",
    "}\n",
    "\n",
    "Console.WriteLine(\"How to instantiate records\");\n",
    "var patient1 = new Patient1(Guid.NewGuid(), \"Severin\");\n",
    "var patient2 = new Patient2 {Id = Guid.NewGuid(), Name = \"Thomas\"};\n",
    "Console.WriteLine(patient1);\n",
    "Console.WriteLine(patient2);\n",
    "Console.WriteLine(string.Empty);\n",
    "\n",
    "Console.WriteLine(\"How to use with operator\");\n",
    "var patient11 = patient1 with {Id = Guid.NewGuid()};\n",
    "Console.WriteLine(patient11);\n",
    "Console.WriteLine(string.Empty);\n",
    "\n",
    "Console.WriteLine(\"How to use deconstructor\");\n",
    "var (id, name) = patient11;\n",
    "Console.WriteLine($\"id: {id}\");\n",
    "Console.WriteLine($\"name: {name}\");\n",
    "Console.WriteLine(string.Empty);"
   ]
  },
  {
   "cell_type": "markdown",
   "metadata": {},
   "source": [
    "## Pattern Matching\n",
    "Operators `is`, `and`, `or` and `not` are more powerful and can be used in lambdas, `if` and `switch`.\n",
    "\n",
    "[Microsoft Docs](https://docs.microsoft.com/en-us/dotnet/csharp/fundamentals/functional/pattern-matching)"
   ]
  },
  {
   "cell_type": "code",
   "execution_count": null,
   "metadata": {
    "dotnet_interactive": {
     "language": "csharp"
    }
   },
   "outputs": [
    {
     "name": "stdout",
     "output_type": "stream",
     "text": [
      "Yes, 1 is between 0 and 10\r\n"
     ]
    }
   ],
   "source": [
    "// Simplified IF statements\n",
    "var firstValue = 1;\n",
    "if (firstValue is > 0 and <= 10) // C#8: if (firstValue > 0 && firstValue <= 10\n",
    "{\n",
    "    Console.WriteLine($\"Yes, {firstValue} is between 0 and 10\");\n",
    "} else\n",
    "{\n",
    "    Console.WriteLine($\"Nope, {firstValue} is not between 0 and 10\");\n",
    "}"
   ]
  },
  {
   "cell_type": "code",
   "execution_count": null,
   "metadata": {
    "dotnet_interactive": {
     "language": "csharp"
    }
   },
   "outputs": [
    {
     "name": "stdout",
     "output_type": "stream",
     "text": [
      "Yes, 2 is a valid percentage.\r\n"
     ]
    }
   ],
   "source": [
    "// Simple range comparison\n",
    "bool IsValidPercentage(int x) => x is >= 0 and <= 100;\n",
    "\n",
    "var secondValue = 2;\n",
    "if (IsValidPercentage(secondValue))\n",
    "{\n",
    "    Console.WriteLine($\"Yes, {secondValue} is a valid percentage.\");\n",
    "} else\n",
    "{\n",
    "    Console.WriteLine($\"Nope, {secondValue} is not a valid percentage.\");\n",
    "}"
   ]
  },
  {
   "cell_type": "code",
   "execution_count": null,
   "metadata": {
    "dotnet_interactive": {
     "language": "csharp"
    }
   },
   "outputs": [
    {
     "name": "stdout",
     "output_type": "stream",
     "text": [
      "Yes, 3 of type Double is a valid percentage.\r\n"
     ]
    }
   ],
   "source": [
    "// Advanced range comparison\n",
    "bool ObjectIsValidPercentage(object x) => x is\n",
    "    >= 0 and <= 100 or    // integer tests\n",
    "    >= 0F and <= 100F or  // float tests\n",
    "    >= 0D and <= 100D;    // double tests\n",
    "\n",
    "    var thirdValue = 3.0D;\n",
    "if (ObjectIsValidPercentage(thirdValue))\n",
    "{\n",
    "    Console.WriteLine($\"Yes, {thirdValue} of type {thirdValue.GetType().Name} is a valid percentage.\");\n",
    "} else\n",
    "{\n",
    "    Console.WriteLine($\"Nope, {thirdValue} of type {thirdValue.GetType().Name} is not a valid percentage.\");\n",
    "}"
   ]
  },
  {
   "cell_type": "code",
   "execution_count": null,
   "metadata": {
    "dotnet_interactive": {
     "language": "csharp"
    }
   },
   "outputs": [
    {
     "name": "stdout",
     "output_type": "stream",
     "text": [
      "Yes, 4 is of type Byte and small.\r\n"
     ]
    }
   ],
   "source": [
    "\n",
    "// Different type per conditional clause\n",
    "bool IsSmallByte(object o) => o is byte and < 100;\n",
    "\n",
    "var fourthValue = (byte) 4;\n",
    "if (IsSmallByte(fourthValue))\n",
    "{\n",
    "    Console.WriteLine($\"Yes, {fourthValue} is of type {fourthValue.GetType().Name} and small.\");\n",
    "} else\n",
    "{\n",
    "    Console.WriteLine($\"Yes, {fourthValue} of type {fourthValue.GetType().Name} ais not a small bytes.\");\n",
    "}"
   ]
  },
  {
   "cell_type": "code",
   "execution_count": null,
   "metadata": {
    "dotnet_interactive": {
     "language": "csharp"
    }
   },
   "outputs": [
    {
     "name": "stdout",
     "output_type": "stream",
     "text": [
      "Yes, ',' is a letter or an end.\r\n"
     ]
    }
   ],
   "source": [
    "// Lots of combinations for the operators.\n",
    "char fifthValue = ',';\n",
    "bool isLetterOrEnd = fifthValue is (>= 'a' and <= 'z') or (>= 'A'  and <= 'Z') or '.' or ',';\n",
    "\n",
    "if(isLetterOrEnd)\n",
    "{\n",
    "    Console.WriteLine($\"Yes, '{fifthValue}' is a letter or an end.\");\n",
    "} else\n",
    "{\n",
    "    Console.WriteLine($\"Nope, '{fifthValue}' is not a letter nor an end.\");\n",
    "}"
   ]
  },
  {
   "cell_type": "code",
   "execution_count": null,
   "metadata": {
    "dotnet_interactive": {
     "language": "csharp"
    }
   },
   "outputs": [
    {
     "name": "stdout",
     "output_type": "stream",
     "text": [
      "The sixthValue is not null, is: ''\r\n"
     ]
    }
   ],
   "source": [
    "// Avoid '!' operator with 'not' operator.\n",
    "string sixthValue = string.Empty;\n",
    "if (sixthValue is not null)  //More readable than !sixthValue == null or sixthValue != null\n",
    "{\n",
    "    Console.WriteLine($\"The sixthValue is not null, is: '{sixthValue}'\");\n",
    "}\n",
    "else\n",
    "{\n",
    "    Console.WriteLine($\"The sixthValue is null.\");\n",
    "}"
   ]
  },
  {
   "cell_type": "code",
   "execution_count": null,
   "metadata": {
    "dotnet_interactive": {
     "language": "csharp"
    }
   },
   "outputs": [
    {
     "name": "stdout",
     "output_type": "stream",
     "text": [
      "Less than or equal to 0\r\n"
     ]
    }
   ],
   "source": [
    "// More powerful switches\n",
    "var seventhValue = -1;\n",
    "switch(seventhValue)\n",
    "{\n",
    "    case int value when value is <= 0:\n",
    "        Console.WriteLine(\"Less than or equal to 0\");\n",
    "        break;\n",
    "    case int value when value is > 0 and <= 10:\n",
    "        Console.WriteLine(\"More than 0 but less than or equal to 10\");\n",
    "        break;\n",
    "    default:\n",
    "        Console.WriteLine(\"More than 10\");\n",
    "        break;\n",
    "}"
   ]
  },
  {
   "cell_type": "code",
   "execution_count": null,
   "metadata": {
    "dotnet_interactive": {
     "language": "csharp"
    }
   },
   "outputs": [
    {
     "name": "stdout",
     "output_type": "stream",
     "text": [
      "The life stage at age 54 is Middle\r\n"
     ]
    }
   ],
   "source": [
    "// Low-code switches\n",
    "enum LifeStage\n",
    "{\n",
    "    Early,\n",
    "    Middle,\n",
    "    Late\n",
    "}\n",
    "LifeStage LifeStageAtAge(int age) => age switch\n",
    "{\n",
    "    < 18 =>  LifeStage.Early,\n",
    "    < 65 =>  LifeStage.Middle,\n",
    "    _ =>    LifeStage.Late,\n",
    "};\n",
    "\n",
    "var age = 54;\n",
    "var stage = LifeStageAtAge(age);\n",
    "\n",
    "Console.WriteLine($\"The life stage at age {age} is {stage}\");"
   ]
  },
  {
   "cell_type": "markdown",
   "metadata": {},
   "source": [
    "## Target-type new expressions\n",
    "This is the opposite of using `var`.\n",
    "\n",
    "[Microsoft Docs](https://docs.microsoft.com/en-us/dotnet/csharp/language-reference/proposals/csharp-9.0/target-typed-new)\n",
    "\n",
    "[Many examples](https://www.thomasclaudiushuber.com/2020/09/08/c-9-0-target-typed-new-expressions/)"
   ]
  },
  {
   "cell_type": "code",
   "execution_count": null,
   "metadata": {
    "dotnet_interactive": {
     "language": "csharp"
    }
   },
   "outputs": [],
   "source": [
    "record Person();\n",
    "Person me = new(); // Instead of var me = new Person();"
   ]
  },
  {
   "cell_type": "code",
   "execution_count": null,
   "metadata": {
    "dotnet_interactive": {
     "language": "csharp"
    }
   },
   "outputs": [],
   "source": [
    "using System.Collections.ObjectModel;\n",
    "public class MainViewModel\n",
    "{   \n",
    "    ObservableCollection<Person> People { get; }\n",
    "    \n",
    "    public MainViewModel()\n",
    "    {\n",
    "        People = new();\n",
    "    }\n",
    "\n",
    "    private void AddFriendExecute()\n",
    "    {\n",
    "        People.Add(new());\n",
    "    }\n",
    "}\n",
    "\n",
    "MainViewModel mainViewModel = new();"
   ]
  },
  {
   "cell_type": "markdown",
   "metadata": {},
   "source": [
    "## Target-type conditional expressions\n",
    "This makes it enough for both types of a condition to be casted to the destination type for the condition to compile.\n",
    "\n",
    "[Microsoft Docs](https://docs.microsoft.com/en-us/dotnet/csharp/language-reference/proposals/csharp-9.0/target-typed-conditional-expression)"
   ]
  },
  {
   "cell_type": "code",
   "execution_count": null,
   "metadata": {
    "dotnet_interactive": {
     "language": "csharp"
    }
   },
   "outputs": [
    {
     "name": "stdout",
     "output_type": "stream",
     "text": [
      "X is '12'\r\n"
     ]
    }
   ],
   "source": [
    "bool condition = true;\n",
    "int? conditionResult = condition ? 12 : null; // Instead of: var x = condition? 12 : (int?)null;\n",
    "\n",
    "Console.WriteLine($\"X is '{conditionResult}'\");"
   ]
  },
  {
   "cell_type": "markdown",
   "metadata": {},
   "source": [
    "## Source Generators\n",
    "They allow the compiler to write new C# code without us writing it. They are typically used to replace reflection.\n",
    "For example, creating a `TestDataBuilder` for a class or record by just adding an attribute to said class or record: https://github.com/dasMulli/data-builder-generator\n",
    "\n",
    "It is worth checking this awesome repo to get ideas on how to get the most out of Source Generators: https://github.com/amis92/csharp-source-generators\n",
    "\n",
    "> Note: Source generators are not yet supported in C# notebooks: https://github.com/dotnet/interactive/issues/1786. So the following code will not work for now.\n",
    "\n",
    "[Microsoft Docs](https://docs.microsoft.com/en-us/dotnet/csharp/roslyn-sdk/source-generators-overview)"
   ]
  },
  {
   "cell_type": "code",
   "execution_count": null,
   "metadata": {
    "dotnet_interactive": {
     "language": "csharp"
    }
   },
   "outputs": [],
   "source": [
    "// #r \"nuget:DasMulli.DataBuilderGenerator, 2.0.0\"\n",
    "\n",
    "// using DasMulli.DataBuilderGenerator;\n",
    "\n",
    "// [GenerateDataBuilder]\n",
    "// public class Person\n",
    "// {\n",
    "//     public string FirstName { get; set; }\n",
    "//     public string? MiddleNames { get; set; }\n",
    "//     public string LastName { get; set; }\n",
    "\n",
    "//     public Person(string firstName, string? middleNames, string lastName)\n",
    "//     {\n",
    "//         FirstName = firstName;\n",
    "//         MiddleNames = middleNames;\n",
    "//         LastName = lastName;\n",
    "//     }\n",
    "// }\n",
    "\n",
    "// var martinBuilder = new PersonBuilder()\n",
    "//     .WithFirstName(\"Martin\")\n",
    "//     .WithMiddleName(\"Andreas\")\n",
    "//     .WithLastName(\"Ullrich\");\n",
    "\n",
    "// var martin = martinBuilder.Build();\n",
    "\n",
    "// var otherMartin = martinBuilder.WithoutMiddleName().WithLastName(\"Foo\").Build();\n"
   ]
  },
  {
   "cell_type": "markdown",
   "metadata": {},
   "source": [
    "## Module initializers\n",
    "A method with a very simple signature and a particular attribute that, when declared, will be the first code to be executed the very first time anything in that module gets called.\n",
    "Could be useful to initialize some dependencies or environment variables right before any code in the module is executed. Or enable source generators to run some global initialization logic without the user needing to explicitly call anything\n",
    "I don't see any immediate use for them as of now, but it's worth knowing they exist.\n",
    "\n",
    "[Microsoft DOcs](https://docs.microsoft.com/en-us/dotnet/csharp/language-reference/proposals/csharp-9.0/module-initializers)"
   ]
  },
  {
   "cell_type": "code",
   "execution_count": null,
   "metadata": {
    "dotnet_interactive": {
     "language": "csharp"
    }
   },
   "outputs": [
    {
     "name": "stdout",
     "output_type": "stream",
     "text": [
      "The module has been initialized.\r\n"
     ]
    }
   ],
   "source": [
    "using System.Runtime.CompilerServices;\n",
    "\n",
    "class Initialization\n",
    "{\n",
    "    [ModuleInitializer]\n",
    "    internal static void Initialize()\n",
    "    {\n",
    "        Console.WriteLine(\"The module has been initialized.\");\n",
    "    }\n",
    "}"
   ]
  },
  {
   "cell_type": "markdown",
   "metadata": {},
   "source": [
    "## Other new features\n",
    "The following are not so relevant because:\n",
    "- They are small things that already exist but got some improvement.\n",
    "- Most apps aren't really in the performance area.\n",
    "- It is usually better to do composition over inheritance. Try to avoid abstract classes and overriding properties and methods."
   ]
  },
  {
   "cell_type": "markdown",
   "metadata": {},
   "source": [
    "### Top-level statements\n",
    "Useful for lambda functions and super simple, 1-file micro services.\n",
    "\n",
    "[Microsoft Docs](https://docs.microsoft.com/en-us/dotnet/csharp/whats-new/tutorials/top-level-statements)"
   ]
  },
  {
   "cell_type": "markdown",
   "metadata": {},
   "source": [
    "### Native sized integers\n",
    "For performance. Use native `integer` types.\n",
    "\n",
    "[Microsoft Docs](https://docs.microsoft.com/en-us/dotnet/csharp/language-reference/proposals/csharp-9.0/native-integers)"
   ]
  },
  {
   "cell_type": "markdown",
   "metadata": {},
   "source": [
    "### Function pointers\n",
    "For performance. More similar to C/C++. Requires `unsafe`.\n",
    "\n",
    "[Microsoft Docs](https://docs.microsoft.com/en-us/dotnet/csharp/language-reference/proposals/csharp-9.0/function-pointers)"
   ]
  },
  {
   "cell_type": "markdown",
   "metadata": {},
   "source": [
    "### Supress localsinit\n",
    "For performance. Example: Avoid initializing arrays to 0. Requires `unsafe`.\n",
    "\n",
    "[Microsoft Docs](https://docs.microsoft.com/en-us/dotnet/csharp/language-reference/proposals/csharp-9.0/skip-localsinit)"
   ]
  },
  {
   "cell_type": "markdown",
   "metadata": {},
   "source": [
    "### Static anonymous functions\n",
    "For performance. Use `static` with lambda expressions and anonymous methods. They won't be able to capture the context, so it doesn't create a closure, so it's faster.\n",
    "\n",
    "[Microsoft Docs](https://docs.microsoft.com/en-us/dotnet/csharp/language-reference/proposals/csharp-9.0/static-anonymous-functions)"
   ]
  },
  {
   "cell_type": "markdown",
   "metadata": {},
   "source": [
    "### Covariant return types\n",
    "Base `class` has an `object` property, the derived `class` can override and return a `string` for that same property.\n",
    "\n",
    "[Microsoft Docs](https://docs.microsoft.com/en-us/dotnet/csharp/language-reference/proposals/csharp-9.0/covariant-returns)"
   ]
  },
  {
   "cell_type": "markdown",
   "metadata": {},
   "source": [
    "### Extension GetEnumerator support for foreach loops\n",
    "Write your own `GetEnumerator` extension method over an existing type. Then `for` loops will work with it.\n",
    "\n",
    "[Microsoft Docs](https://docs.microsoft.com/en-us/dotnet/csharp/language-reference/proposals/csharp-9.0/extension-getenumerator)"
   ]
  },
  {
   "cell_type": "markdown",
   "metadata": {},
   "source": [
    "### Lambda discard parameters\n",
    "For when the signature of a method requires parameters, but you won't use them. Could be useful for anonymous event handlers.\n",
    "\n",
    "[Microsoft Docs](https://docs.microsoft.com/en-us/dotnet/csharp/language-reference/proposals/csharp-9.0/lambda-discard-parameters)"
   ]
  },
  {
   "cell_type": "code",
   "execution_count": null,
   "metadata": {
    "dotnet_interactive": {
     "language": "csharp"
    }
   },
   "outputs": [],
   "source": [
    "// When input parameters are not used\n",
    "Func<int, int, string> methodReturnsConstant => (_,_) => \"This is the way\";"
   ]
  },
  {
   "cell_type": "markdown",
   "metadata": {},
   "source": [
    "### Attributes on local functions\n",
    "Attributes can be placed in a local function and in its parameters. Main goal is to allow Nullability attributes.\n",
    "\n",
    "[Microsoft Docs](https://docs.microsoft.com/en-us/dotnet/csharp/language-reference/proposals/csharp-9.0/local-function-attributes)\n",
    "\n",
    "[More info](https://anthonygiretti.com/2020/10/19/introducing-c-9-attributes-on-local-functions/)"
   ]
  },
  {
   "cell_type": "markdown",
   "metadata": {},
   "source": [
    "### New features for partial methods\n",
    "Just lets not use partial methods.\n",
    "\n",
    "[Microsoft Docs](https://docs.microsoft.com/en-us/dotnet/csharp/language-reference/proposals/csharp-9.0/extending-partial-methods)"
   ]
  }
 ],
 "metadata": {
  "kernelspec": {
   "display_name": ".NET (C#)",
   "language": "C#",
   "name": ".net-csharp"
  },
  "language_info": {
   "file_extension": ".cs",
   "mimetype": "text/x-csharp",
   "name": "C#",
   "pygments_lexer": "csharp",
   "version": "9.0"
  },
  "orig_nbformat": 4
 },
 "nbformat": 4,
 "nbformat_minor": 2
}
